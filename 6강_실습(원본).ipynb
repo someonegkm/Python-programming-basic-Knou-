{
  "nbformat": 4,
  "nbformat_minor": 0,
  "metadata": {
    "colab": {
      "provenance": [],
      "include_colab_link": true
    },
    "kernelspec": {
      "name": "python3",
      "display_name": "Python 3"
    },
    "language_info": {
      "name": "python"
    }
  },
  "cells": [
    {
      "cell_type": "markdown",
      "metadata": {
        "id": "view-in-github",
        "colab_type": "text"
      },
      "source": [
        "<a href=\"https://colab.research.google.com/github/someonegkm/Python-programming-basic-Knou-/blob/main/6%EA%B0%95_%EC%8B%A4%EC%8A%B5(%EC%9B%90%EB%B3%B8).ipynb\" target=\"_parent\"><img src=\"https://colab.research.google.com/assets/colab-badge.svg\" alt=\"Open In Colab\"/></a>"
      ]
    },
    {
      "cell_type": "markdown",
      "source": [
        "# 6장 1절"
      ],
      "metadata": {
        "id": "hckgpz65oDBv"
      }
    },
    {
      "cell_type": "code",
      "execution_count": null,
      "metadata": {
        "id": "ZW1w8qQHoAm3"
      },
      "outputs": [],
      "source": [
        "#반지름 사용자 입력\n",
        "rad = int(input(\"반지름을 입력하세요:\"))\n",
        "#높이 사용자 입력\n",
        "hei = int(input(\"높이를 입력하세요:\"))\n",
        "#부피&겉넓이 계산\n",
        "vol = 1/3 * 3.14 * rad ** 2 * hei\n",
        "suf = 3.14 * rad ** 2 + 3.14 * rad * hei\n",
        "print(\"원뿔의 부피는\" ,vol, \"입니다.\")\n",
        "print(\"원뿔의 겉넓이는\" ,suf, \"입니다\")"
      ]
    },
    {
      "cell_type": "markdown",
      "source": [],
      "metadata": {
        "id": "gIxdfGagpB53"
      }
    },
    {
      "cell_type": "markdown",
      "source": [
        "# 6강 2절"
      ],
      "metadata": {
        "id": "cquz2vj9oGml"
      }
    },
    {
      "cell_type": "code",
      "source": [
        "#반지름 사용자 입력\n",
        "# 이분 구조\n",
        "rad = int(input(\"반지름을 입력하세요:\"))\n",
        "#높이 사용자 입력\n",
        "hei = int(input(\"높이를 입력하세요:\"))\n",
        "2\n",
        "  #부피&겉넓이 계산\n",
        "  vol = 1/3 * 3.14 * rad ** 2 * hei\n",
        "  suf = 3.14 * rad ** 2 + 3.14 * rad * hei\n",
        "  print(\"원뿔의 부피는\" ,vol, \"입니다.\")\n",
        "  print(\"원뿔의 겉넓이는\" ,suf, \"입니다\")\n",
        "\n",
        "else :\n",
        "  print(\"양수 값을 입력하세요(오류)\")"
      ],
      "metadata": {
        "id": "Oruld7aFdiGK",
        "outputId": "6324d24c-391a-400e-9bf5-3c39a7bdf26c",
        "colab": {
          "base_uri": "https://localhost:8080/"
        }
      },
      "execution_count": 2,
      "outputs": [
        {
          "output_type": "stream",
          "name": "stdout",
          "text": [
            "반지름을 입력하세요:30\n",
            "높이를 입력하세요:0\n",
            "양수 값을 입력하세요(오류)\n"
          ]
        }
      ]
    },
    {
      "cell_type": "markdown",
      "source": [
        "가장 큰 수 찾는 프로그램"
      ],
      "metadata": {
        "id": "_2ZlVieZpKuT"
      }
    },
    {
      "cell_type": "code",
      "source": [
        "#가장 큰 수 찾는 프로그램\n",
        "# A, B, C 사용자 입력\n",
        "\n",
        "A = int(input(\"A 입력: \"))\n",
        "B = int(input(\"B 입력: \"))\n",
        "C = int(input(\"C 입력: \"))\n",
        "result = 0\n",
        "# A, B, C 중 가장 큰 수 출력\n",
        "if A > B :\n",
        "  if A > C :\n",
        "    result = A\n",
        "  else :\n",
        "    result = C\n",
        "else :\n",
        "  if B > C :\n",
        "    result = B\n",
        "  else :\n",
        "    result = C\n",
        "print(result)"
      ],
      "metadata": {
        "id": "SuPkvKRSoJBE",
        "outputId": "42a8189c-1ebd-4fed-9cf7-2f53acda12e4",
        "colab": {
          "base_uri": "https://localhost:8080/"
        }
      },
      "execution_count": 4,
      "outputs": [
        {
          "output_type": "stream",
          "name": "stdout",
          "text": [
            "A 입력: 3\n",
            "B 입력: 2\n",
            "C 입력: 1\n",
            "3\n"
          ]
        }
      ]
    }
  ]
}